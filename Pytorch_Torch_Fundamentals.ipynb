{
 "cells": [
  {
   "cell_type": "code",
   "execution_count": 2,
   "id": "7b545d43",
   "metadata": {},
   "outputs": [
    {
     "data": {
      "text/plain": [
       "'2.4.0'"
      ]
     },
     "execution_count": 2,
     "metadata": {},
     "output_type": "execute_result"
    }
   ],
   "source": [
    "import torch\n",
    "torch.__version__"
   ]
  },
  {
   "cell_type": "code",
   "execution_count": 3,
   "id": "856c78e9",
   "metadata": {},
   "outputs": [
    {
     "data": {
      "text/plain": [
       "tensor(7)"
      ]
     },
     "execution_count": 3,
     "metadata": {},
     "output_type": "execute_result"
    }
   ],
   "source": [
    "# Scalar\n",
    "# A scalar is a single number and in tensor-speak it's a zero dimension tensor.\n",
    "scalar=torch.tensor(7)\n",
    "scalar"
   ]
  },
  {
   "cell_type": "code",
   "execution_count": 4,
   "id": "152c71aa",
   "metadata": {},
   "outputs": [
    {
     "data": {
      "text/plain": [
       "0"
      ]
     },
     "execution_count": 4,
     "metadata": {},
     "output_type": "execute_result"
    }
   ],
   "source": [
    "# dimension\n",
    "\n",
    "scalar.ndim"
   ]
  },
  {
   "cell_type": "code",
   "execution_count": 5,
   "id": "98d8c023",
   "metadata": {},
   "outputs": [
    {
     "data": {
      "text/plain": [
       "7"
      ]
     },
     "execution_count": 5,
     "metadata": {},
     "output_type": "execute_result"
    }
   ],
   "source": [
    "# Get the Python number within a tensor (only works with one-element tensors)\n",
    "scalar.item()"
   ]
  },
  {
   "cell_type": "code",
   "execution_count": 6,
   "id": "de9d571d",
   "metadata": {},
   "outputs": [
    {
     "data": {
      "text/plain": [
       "tensor([7, 7])"
      ]
     },
     "execution_count": 6,
     "metadata": {},
     "output_type": "execute_result"
    }
   ],
   "source": [
    "# Vector\n",
    "vector=torch.tensor([7,7])\n",
    "vector"
   ]
  },
  {
   "cell_type": "code",
   "execution_count": 7,
   "id": "55672fb4",
   "metadata": {},
   "outputs": [
    {
     "data": {
      "text/plain": [
       "1"
      ]
     },
     "execution_count": 7,
     "metadata": {},
     "output_type": "execute_result"
    }
   ],
   "source": [
    "vector.ndim\n",
    "#We can tell the number of dimensions a tensor in PyTorch has by the number of \n",
    "#square brackets on the outside ([) and we only need to count one side."
   ]
  },
  {
   "cell_type": "code",
   "execution_count": 8,
   "id": "568c110e",
   "metadata": {},
   "outputs": [
    {
     "data": {
      "text/plain": [
       "torch.Size([2])"
      ]
     },
     "execution_count": 8,
     "metadata": {},
     "output_type": "execute_result"
    }
   ],
   "source": [
    "#check the shape of vector\n",
    "vector.shape\n",
    "\n",
    "# The above returns torch.Size([2]) which means our vector has a shape of [2]\n",
    "# This is because of the two elements we placed inside the square brackets ([7, 7])"
   ]
  },
  {
   "cell_type": "code",
   "execution_count": 9,
   "id": "9e33a320",
   "metadata": {},
   "outputs": [
    {
     "data": {
      "text/plain": [
       "tensor([[ 7,  8],\n",
       "        [ 9, 10]])"
      ]
     },
     "execution_count": 9,
     "metadata": {},
     "output_type": "execute_result"
    }
   ],
   "source": [
    "#matrix\n",
    "MATRIX=torch.tensor([[7,8],[9,10]])\n",
    "MATRIX"
   ]
  },
  {
   "cell_type": "code",
   "execution_count": 10,
   "id": "508bfbad",
   "metadata": {},
   "outputs": [
    {
     "data": {
      "text/plain": [
       "(2, torch.Size([2, 2]))"
      ]
     },
     "execution_count": 10,
     "metadata": {},
     "output_type": "execute_result"
    }
   ],
   "source": [
    "MATRIX.ndim, MATRIX.shape"
   ]
  },
  {
   "cell_type": "code",
   "execution_count": 11,
   "id": "9c078013",
   "metadata": {},
   "outputs": [
    {
     "data": {
      "text/plain": [
       "tensor([[[1, 2, 3],\n",
       "         [4, 5, 6],\n",
       "         [7, 8, 9]]])"
      ]
     },
     "execution_count": 11,
     "metadata": {},
     "output_type": "execute_result"
    }
   ],
   "source": [
    "TENSOR=torch.tensor([[[1,2,3],[4,5,6],[7,8,9]]])\n",
    "TENSOR"
   ]
  },
  {
   "cell_type": "code",
   "execution_count": 12,
   "id": "590edc1c",
   "metadata": {},
   "outputs": [
    {
     "data": {
      "text/plain": [
       "3"
      ]
     },
     "execution_count": 12,
     "metadata": {},
     "output_type": "execute_result"
    }
   ],
   "source": [
    "#check the number of dimensions for tensor\n",
    "TENSOR.ndim"
   ]
  },
  {
   "cell_type": "code",
   "execution_count": 13,
   "id": "055137ef",
   "metadata": {},
   "outputs": [
    {
     "data": {
      "text/plain": [
       "torch.Size([1, 3, 3])"
      ]
     },
     "execution_count": 13,
     "metadata": {},
     "output_type": "execute_result"
    }
   ],
   "source": [
    "TENSOR.shape"
   ]
  },
  {
   "cell_type": "code",
   "execution_count": 14,
   "id": "f95c87fa",
   "metadata": {},
   "outputs": [
    {
     "data": {
      "text/plain": [
       "tensor([[[ 1,  2],\n",
       "         [ 3,  4]],\n",
       "\n",
       "        [[ 5,  6],\n",
       "         [ 7,  8]],\n",
       "\n",
       "        [[ 9, 10],\n",
       "         [11, 12]]])"
      ]
     },
     "execution_count": 14,
     "metadata": {},
     "output_type": "execute_result"
    }
   ],
   "source": [
    "exp_1=torch.tensor([[[1,2],[3,4]],[[5,6],[7,8]],[[9,10],[11,12]]])\n",
    "exp_1"
   ]
  },
  {
   "cell_type": "code",
   "execution_count": 15,
   "id": "3784e2d2",
   "metadata": {},
   "outputs": [
    {
     "data": {
      "text/plain": [
       "torch.Size([3, 2, 2])"
      ]
     },
     "execution_count": 15,
     "metadata": {},
     "output_type": "execute_result"
    }
   ],
   "source": [
    "exp_1.shape"
   ]
  },
  {
   "cell_type": "code",
   "execution_count": 16,
   "id": "d81e5b6d",
   "metadata": {},
   "outputs": [
    {
     "data": {
      "text/plain": [
       "3"
      ]
     },
     "execution_count": 16,
     "metadata": {},
     "output_type": "execute_result"
    }
   ],
   "source": [
    "exp_1.ndim"
   ]
  },
  {
   "cell_type": "code",
   "execution_count": 17,
   "id": "8ca2ddf2",
   "metadata": {},
   "outputs": [
    {
     "data": {
      "text/plain": [
       "tensor([[0.6173, 0.7445, 0.4083, 0.5966],\n",
       "        [0.4451, 0.1118, 0.5365, 0.7153],\n",
       "        [0.7781, 0.5235, 0.3661, 0.5666]])"
      ]
     },
     "execution_count": 17,
     "metadata": {},
     "output_type": "execute_result"
    }
   ],
   "source": [
    "# Creating a tensor of random values of size (3,4)\n",
    "Rtensor=torch.rand(size=(3,4))\n",
    "Rtensor"
   ]
  },
  {
   "cell_type": "code",
   "execution_count": 18,
   "id": "7df82352",
   "metadata": {},
   "outputs": [
    {
     "data": {
      "text/plain": [
       "torch.float32"
      ]
     },
     "execution_count": 18,
     "metadata": {},
     "output_type": "execute_result"
    }
   ],
   "source": [
    "# Checking the datatype of tensor\n",
    "Rtensor.dtype"
   ]
  },
  {
   "cell_type": "code",
   "execution_count": 19,
   "id": "a5d49c83",
   "metadata": {},
   "outputs": [
    {
     "data": {
      "text/plain": [
       "(torch.Size([224, 224, 3]), 3)"
      ]
     },
     "execution_count": 19,
     "metadata": {},
     "output_type": "execute_result"
    }
   ],
   "source": [
    "# Creating a random tensor of size 224,224,3\n",
    "\n",
    "random_image_size_tensor=torch.rand(size=(224,224,3))\n",
    "random_image_size_tensor.shape, random_image_size_tensor.ndim"
   ]
  },
  {
   "cell_type": "code",
   "execution_count": 20,
   "id": "182be69f",
   "metadata": {},
   "outputs": [
    {
     "data": {
      "text/plain": [
       "tensor([[[0.6325, 0.3203, 0.8186],\n",
       "         [0.8695, 0.7795, 0.4215],\n",
       "         [0.3684, 0.8606, 0.0573],\n",
       "         ...,\n",
       "         [0.4696, 0.0943, 0.5797],\n",
       "         [0.6321, 0.4677, 0.3220],\n",
       "         [0.5800, 0.6682, 0.8499]],\n",
       "\n",
       "        [[0.2137, 0.2329, 0.1832],\n",
       "         [0.6384, 0.7810, 0.3955],\n",
       "         [0.9037, 0.0672, 0.3947],\n",
       "         ...,\n",
       "         [0.7843, 0.8987, 0.2134],\n",
       "         [0.0660, 0.9236, 0.3556],\n",
       "         [0.0203, 0.3414, 0.3702]],\n",
       "\n",
       "        [[0.2891, 0.5844, 0.5615],\n",
       "         [0.2002, 0.5964, 0.7999],\n",
       "         [0.2548, 0.2493, 0.1057],\n",
       "         ...,\n",
       "         [0.7989, 0.4578, 0.0637],\n",
       "         [0.6536, 0.9387, 0.8601],\n",
       "         [0.7239, 0.9618, 0.0660]],\n",
       "\n",
       "        ...,\n",
       "\n",
       "        [[0.7060, 0.2180, 0.5674],\n",
       "         [0.0422, 0.3959, 0.2620],\n",
       "         [0.0235, 0.0500, 0.1191],\n",
       "         ...,\n",
       "         [0.3198, 0.4125, 0.6476],\n",
       "         [0.3601, 0.2236, 0.6553],\n",
       "         [0.0218, 0.3698, 0.0935]],\n",
       "\n",
       "        [[0.4391, 0.0756, 0.6400],\n",
       "         [0.1714, 0.5850, 0.8443],\n",
       "         [0.5509, 0.8877, 0.1456],\n",
       "         ...,\n",
       "         [0.0183, 0.8277, 0.3163],\n",
       "         [0.9673, 0.8826, 0.4671],\n",
       "         [0.8631, 0.2364, 0.9774]],\n",
       "\n",
       "        [[0.7124, 0.7829, 0.9829],\n",
       "         [0.4005, 0.2234, 0.3297],\n",
       "         [0.9845, 0.2726, 0.1733],\n",
       "         ...,\n",
       "         [0.1472, 0.0089, 0.8413],\n",
       "         [0.5562, 0.1885, 0.6059],\n",
       "         [0.3858, 0.1367, 0.5272]]])"
      ]
     },
     "execution_count": 20,
     "metadata": {},
     "output_type": "execute_result"
    }
   ],
   "source": [
    "random_image_size_tensor"
   ]
  },
  {
   "cell_type": "code",
   "execution_count": 21,
   "id": "7a18cd2c",
   "metadata": {},
   "outputs": [
    {
     "data": {
      "text/plain": [
       "(tensor([[0., 0., 0.],\n",
       "         [0., 0., 0.],\n",
       "         [0., 0., 0.]]),\n",
       " torch.float32)"
      ]
     },
     "execution_count": 21,
     "metadata": {},
     "output_type": "execute_result"
    }
   ],
   "source": [
    "# Creating a zeros tensor \n",
    "\n",
    "zeros=torch.zeros(size=(3,3))\n",
    "zeros, zeros.dtype"
   ]
  },
  {
   "cell_type": "code",
   "execution_count": 22,
   "id": "187b9840",
   "metadata": {},
   "outputs": [
    {
     "data": {
      "text/plain": [
       "(tensor([[1., 1., 1.],\n",
       "         [1., 1., 1.],\n",
       "         [1., 1., 1.]]),\n",
       " torch.float32)"
      ]
     },
     "execution_count": 22,
     "metadata": {},
     "output_type": "execute_result"
    }
   ],
   "source": [
    "# Creating a ones tensor\n",
    "\n",
    "Ones=torch.ones(size=(3,3))\n",
    "Ones, Ones.dtype"
   ]
  },
  {
   "cell_type": "code",
   "execution_count": 23,
   "id": "add9fb99",
   "metadata": {},
   "outputs": [
    {
     "data": {
      "text/plain": [
       "tensor([0, 1, 2, 3, 4, 5, 6, 7, 8, 9])"
      ]
     },
     "execution_count": 23,
     "metadata": {},
     "output_type": "execute_result"
    }
   ],
   "source": [
    "# A range of tensor \n",
    "\n",
    "zero_to_ten= torch.arange(start=0,end=10,step=1)\n",
    "zero_to_ten"
   ]
  },
  {
   "cell_type": "code",
   "execution_count": 24,
   "id": "255a7e62",
   "metadata": {},
   "outputs": [
    {
     "data": {
      "text/plain": [
       "tensor([1, 1, 1, 1, 1, 1, 1, 1, 1, 1])"
      ]
     },
     "execution_count": 24,
     "metadata": {},
     "output_type": "execute_result"
    }
   ],
   "source": [
    "# Creating tensor like others\n",
    "\n",
    "tensor_like=torch.ones_like(input=zero_to_ten)\n",
    "tensor_like"
   ]
  },
  {
   "cell_type": "code",
   "execution_count": 25,
   "id": "797e8729",
   "metadata": {},
   "outputs": [
    {
     "data": {
      "text/plain": [
       "tensor([0, 0, 0, 0, 0, 0, 0, 0, 0, 0])"
      ]
     },
     "execution_count": 25,
     "metadata": {},
     "output_type": "execute_result"
    }
   ],
   "source": [
    "tensor_like0=torch.zeros_like(input=zero_to_ten)\n",
    "tensor_like0"
   ]
  },
  {
   "cell_type": "code",
   "execution_count": 26,
   "id": "19f98c06",
   "metadata": {},
   "outputs": [
    {
     "data": {
      "text/plain": [
       "(torch.Size([3]), torch.int64, device(type='cpu'))"
      ]
     },
     "execution_count": 26,
     "metadata": {},
     "output_type": "execute_result"
    }
   ],
   "source": [
    "# Details of a default tensor\n",
    "\n",
    "float_32_tensor=torch.tensor([2,3,1], dtype=None, device=None, requires_grad=False)\n",
    "\n",
    "float_32_tensor.shape, float_32_tensor.dtype, float_32_tensor.device"
   ]
  },
  {
   "cell_type": "markdown",
   "id": "e938ce57",
   "metadata": {},
   "source": [
    "Tensor datatypes\n",
    "There are many different tensor datatypes available in PyTorch.\n",
    "\n",
    "Some are specific for CPU and some are better for GPU.\n",
    "\n",
    "Getting to know which is which can take some time.\n",
    "\n",
    "Generally if you see torch.cuda anywhere, the tensor is being used for GPU (since Nvidia GPUs use a computing toolkit called CUDA).\n",
    "\n",
    "The most common type (and generally the default) is torch.float32 or torch.float.\n",
    "\n",
    "This is referred to as \"32-bit floating point\".\n",
    "\n",
    "But there's also 16-bit floating point (torch.float16 or torch.half) and 64-bit floating point (torch.float64 or torch.double).\n",
    "\n",
    "And to confuse things even more there's also 8-bit, 16-bit, 32-bit and 64-bit integers.\n",
    "\n",
    "Plus more!\n",
    "\n",
    "Note: An integer is a flat round number like 7 whereas a float has a decimal 7.0.\n",
    "\n",
    "The reason for all of these is to do with precision in computing.\n",
    "\n",
    "Precision is the amount of detail used to describe a number.\n",
    "\n",
    "The higher the precision value (8, 16, 32), the more detail and hence data used to express a number.\n",
    "\n",
    "This matters in deep learning and numerical computing because you're making so many operations, the more detail you have to calculate on, the more compute you have to use.\n",
    "\n",
    "So lower precision datatypes are generally faster to compute on but sacrifice some performance on evaluation metrics like accuracy (faster to compute but less accurate).\n"
   ]
  },
  {
   "cell_type": "code",
   "execution_count": 27,
   "id": "9057c4c7",
   "metadata": {},
   "outputs": [
    {
     "data": {
      "text/plain": [
       "tensor([1., 2., 3.])"
      ]
     },
     "execution_count": 27,
     "metadata": {},
     "output_type": "execute_result"
    }
   ],
   "source": [
    "# Creating a tensor of a particular datatype\n",
    "\n",
    "torch_16_tensor=torch.tensor([1,2,3], dtype=torch.float32)\n",
    "torch_16_tensor"
   ]
  },
  {
   "cell_type": "code",
   "execution_count": 28,
   "id": "05a40242",
   "metadata": {},
   "outputs": [
    {
     "name": "stdout",
     "output_type": "stream",
     "text": [
      "tensor([[0.8483, 0.8845, 0.1670],\n",
      "        [0.3983, 0.2410, 0.5876],\n",
      "        [0.8765, 0.8623, 0.8734]])\n",
      "\n",
      "\n",
      "torch.float32 : Data type of rtensor\n",
      "cpu : System used by rtensor\n",
      "torch.Size([3, 3]) : Shape of rtensor\n"
     ]
    }
   ],
   "source": [
    "# Details of a random tensor\n",
    "rtensor=torch.rand(size=(3,3))\n",
    "print(rtensor)\n",
    "print(\"\\n\")\n",
    "print(rtensor.dtype,\": Data type of rtensor\")\n",
    "print(rtensor.device,\": System used by rtensor\")\n",
    "print(rtensor.shape,\": Shape of rtensor\")"
   ]
  },
  {
   "cell_type": "markdown",
   "id": "1a574c4d",
   "metadata": {},
   "source": [
    "# Manipulating Tensors"
   ]
  },
  {
   "cell_type": "code",
   "execution_count": 29,
   "id": "056c81a0",
   "metadata": {},
   "outputs": [
    {
     "name": "stdout",
     "output_type": "stream",
     "text": [
      "tensor([1, 2, 3])\n"
     ]
    }
   ],
   "source": [
    "# Creating a tensor and adding a value to it\n",
    "\n",
    "artpol=torch.tensor([1,2,3])\n",
    "print(artpol)"
   ]
  },
  {
   "cell_type": "code",
   "execution_count": 30,
   "id": "9d447993",
   "metadata": {},
   "outputs": [
    {
     "name": "stdout",
     "output_type": "stream",
     "text": [
      "tensor([11, 12, 13])\n",
      "tensor([10, 20, 30])\n"
     ]
    }
   ],
   "source": [
    "print(artpol+10)\n",
    "print(artpol*10)"
   ]
  },
  {
   "cell_type": "code",
   "execution_count": 31,
   "id": "9fff0e24",
   "metadata": {},
   "outputs": [
    {
     "name": "stdout",
     "output_type": "stream",
     "text": [
      "tensor([-9, -8, -7])\n"
     ]
    }
   ],
   "source": [
    "# Subtract and Reassign\n",
    "\n",
    "artpol=artpol-10\n",
    "print(artpol)"
   ]
  },
  {
   "cell_type": "code",
   "execution_count": 32,
   "id": "ac3be611",
   "metadata": {},
   "outputs": [
    {
     "name": "stdout",
     "output_type": "stream",
     "text": [
      "tensor([1, 2, 3])\n"
     ]
    }
   ],
   "source": [
    "# Add and reassign a tensor\n",
    "\n",
    "artpol=artpol+10\n",
    "print(artpol)"
   ]
  },
  {
   "cell_type": "code",
   "execution_count": 33,
   "id": "12995928",
   "metadata": {},
   "outputs": [
    {
     "data": {
      "text/plain": [
       "tensor([10, 20, 30])"
      ]
     },
     "execution_count": 33,
     "metadata": {},
     "output_type": "execute_result"
    }
   ],
   "source": [
    "# Using torch.multiply function \n",
    "\n",
    "torch.multiply(artpol,10)  # This is an elementwise operation"
   ]
  },
  {
   "cell_type": "code",
   "execution_count": 34,
   "id": "26da4fd3",
   "metadata": {},
   "outputs": [
    {
     "data": {
      "text/plain": [
       "tensor([11, 12, 13])"
      ]
     },
     "execution_count": 34,
     "metadata": {},
     "output_type": "execute_result"
    }
   ],
   "source": [
    "# Using torch.add function\n",
    "\n",
    "torch.add(artpol,10)    "
   ]
  },
  {
   "cell_type": "code",
   "execution_count": 35,
   "id": "44fa0673",
   "metadata": {},
   "outputs": [
    {
     "name": "stdout",
     "output_type": "stream",
     "text": [
      "tensor([1, 2, 3]) * tensor([1, 2, 3])\n",
      "equals tensor([1, 4, 9])\n"
     ]
    }
   ],
   "source": [
    "# Element wise multiplication\n",
    "\n",
    "print(artpol,\"*\",artpol)   # OR torch.multiply(artpol,artpol)        \n",
    "print(\"equals\",artpol*artpol) "
   ]
  },
  {
   "cell_type": "code",
   "execution_count": 36,
   "id": "6ff548f7",
   "metadata": {},
   "outputs": [
    {
     "name": "stdout",
     "output_type": "stream",
     "text": [
      "Element-wise multiplication: \n",
      "tensor([ 1,  4,  9, 16]) \n",
      "\n",
      "Matrix multiplication: \n",
      "tensor(30)\n"
     ]
    }
   ],
   "source": [
    "# Elementwise multiplication vs Matrix multipplication\n",
    "\n",
    "telsat=torch.tensor([1,2,3,4])\n",
    "print(\"Element-wise multiplication: \")\n",
    "print(torch.multiply(telsat,telsat),\"\\n\")\n",
    "\n",
    "print(\"Matrix multiplication: \")\n",
    "print(torch.matmul(telsat,telsat)) # OR # Can also use the \"@\" symbol for matrix multiplication, though not recommended telsat@telsat\n",
    "\n"
   ]
  },
  {
   "cell_type": "code",
   "execution_count": 37,
   "id": "6b2e2bcf",
   "metadata": {},
   "outputs": [
    {
     "name": "stdout",
     "output_type": "stream",
     "text": [
      "Execution time for 1000 iterations: 22.181938000023365 seconds\n"
     ]
    }
   ],
   "source": [
    "# Time complexity for same output but different methods\n",
    "\n",
    "import timeit\n",
    "\n",
    "# Define the code to be tested as a string\n",
    "code = \"\"\"\n",
    "value = torch.tensor(0.0)\n",
    "for i in range(len(telsat)):\n",
    "    value = value + telsat[i] * telsat[i]\n",
    "\"\"\"\n",
    "\n",
    "# Define the setup code to initialize the test data\n",
    "setup = \"\"\"\n",
    "import torch\n",
    "telsat = torch.arange(1000.0)\n",
    "\"\"\"\n",
    "\n",
    "# Time the execution of the test code\n",
    "execution_time = timeit.timeit(stmt=code, setup=setup, number=1000)\n",
    "print(f\"Execution time for 1000 iterations: {execution_time} seconds\")"
   ]
  },
  {
   "cell_type": "code",
   "execution_count": 38,
   "id": "5afeee91",
   "metadata": {},
   "outputs": [
    {
     "name": "stdout",
     "output_type": "stream",
     "text": [
      "Execution time for 1000 iterations: 0.010116800083778799 seconds\n"
     ]
    }
   ],
   "source": [
    "import timeit\n",
    "\n",
    "# Define the code to be tested as a string\n",
    "code = \"\"\"\n",
    "telsat*telsat\n",
    "\"\"\"\n",
    "\n",
    "# Define the setup code to initialize the test data\n",
    "setup = \"\"\"\n",
    "import torch\n",
    "telsat = torch.arange(1000.0)\n",
    "\"\"\"\n",
    "\n",
    "# Time the execution of the test code\n",
    "execution_time = timeit.timeit(stmt=code, setup=setup, number=1000)\n",
    "print(f\"Execution time for 1000 iterations: {execution_time} seconds\")"
   ]
  },
  {
   "cell_type": "code",
   "execution_count": 39,
   "id": "6f231790",
   "metadata": {},
   "outputs": [
    {
     "name": "stdout",
     "output_type": "stream",
     "text": [
      "tensor_A \n",
      " tensor([[1., 2.],\n",
      "        [3., 4.],\n",
      "        [5., 6.]]) torch.Size([3, 2]) \n",
      "tensor_B\n",
      " tensor([[4., 6.],\n",
      "        [9., 7.],\n",
      "        [1., 9.]]) torch.Size([3, 2])\n"
     ]
    }
   ],
   "source": [
    "# Multiplication of two matrix\n",
    "\n",
    "tensor_A=torch.tensor([[1,2],[3,4],[5,6]],dtype=torch.float32)\n",
    "tensor_B=torch.tensor([[4,6],[9,7],[1,9]],dtype=torch.float32)\n",
    "\n",
    "print(\"tensor_A \\n\",tensor_A, tensor_A.shape,\"\\ntensor_B\\n\",tensor_B, tensor_B.shape)"
   ]
  },
  {
   "cell_type": "code",
   "execution_count": 40,
   "id": "15bc2d67",
   "metadata": {},
   "outputs": [
    {
     "name": "stdout",
     "output_type": "stream",
     "text": [
      "tensor_A \n",
      " tensor([[1., 2.],\n",
      "        [3., 4.],\n",
      "        [5., 6.]]) torch.Size([3, 2]) \n",
      "tensor_B.T\n",
      " tensor([[4., 9., 1.],\n",
      "        [6., 7., 9.]]) torch.Size([2, 3])\n"
     ]
    }
   ],
   "source": [
    "print(\"tensor_A \\n\",tensor_A, tensor_A.shape,\"\\ntensor_B.T\\n\",tensor_B.T, tensor_B.T.shape)"
   ]
  },
  {
   "cell_type": "code",
   "execution_count": 41,
   "id": "b0fed7e6",
   "metadata": {},
   "outputs": [
    {
     "name": "stdout",
     "output_type": "stream",
     "text": [
      "tensor_A x tensor_B:\n",
      "\n",
      "tensor([[16., 23., 19.],\n",
      "        [36., 55., 39.],\n",
      "        [56., 87., 59.]])\n"
     ]
    }
   ],
   "source": [
    "#We can also use torch.mm() which is a short for torch.matmul()\n",
    "print(\"tensor_A x tensor_B:\\n\")\n",
    "print(torch.matmul(tensor_A,tensor_B.T))"
   ]
  },
  {
   "cell_type": "markdown",
   "id": "4a5374ad",
   "metadata": {},
   "source": [
    "# Torch.nn.Linear() module"
   ]
  },
  {
   "cell_type": "markdown",
   "id": "2ec73a73",
   "metadata": {},
   "source": [
    "The torch.nn.Linear() module (we'll see this in action later on), also known as a feed-forward layer or fully connected layer, implements a matrix multiplication between an input x and a weights matrix A.\n",
    "\n",
    "y=x⋅AT+b\n",
    "\n",
    "\n",
    "x is the input to the layer (deep learning is a stack of layers like torch.nn.Linear() and others on top of each other).\n",
    "A is the weights matrix created by the layer, this starts out as random numbers that get adjusted as a neural network learns to better represent patterns in the data (notice the \"T\", that's because the weights matrix gets transposed).\n",
    "Note: You might also often see W or another letter like X used to showcase the weights matrix.\n",
    "b is the bias term used to slightly offset the weights and inputs.\n",
    "y is the output (a manipulation of the input in the hopes to discover patterns in it).\n",
    "This is a linear function (you may have seen something like y=mx+b,\n",
    "in high school or elsewhere), and can be used to draw a straight line!"
   ]
  },
  {
   "cell_type": "code",
   "execution_count": 42,
   "id": "b3ace446",
   "metadata": {},
   "outputs": [
    {
     "name": "stdout",
     "output_type": "stream",
     "text": [
      "Output:\n",
      " tensor([[3.9151, 0.9199],\n",
      "        [5.1429, 1.7601]], grad_fn=<AddmmBackward0>)\n",
      "\n",
      "Bias:  Parameter containing:\n",
      "tensor([0.4981, 0.1893], requires_grad=True)\n",
      "\n",
      "Weights:  Parameter containing:\n",
      "tensor([[ 0.3806,  0.3492,  0.3148],\n",
      "        [ 0.0759, -0.1124,  0.2571]], requires_grad=True)\n"
     ]
    }
   ],
   "source": [
    "linear=torch.nn.Linear(in_features=3 # in_features = matches inner dimension of input  \n",
    "                        ,out_features=2) # out_features = describes outer value\n",
    "tensor_X=torch.tensor([[2,4,4],[1,5,8]],dtype=torch.float32)\n",
    "x=tensor_X\n",
    "output=linear(x)\n",
    "print('Output:\\n', output)\n",
    "\n",
    "print(\"\\nBias: \", linear.bias)     # has shape of 3\n",
    "print(\"\\nWeights: \", linear.weight) # transpose of this is multiplied with the input matrix to get x.(A.T)"
   ]
  },
  {
   "cell_type": "code",
   "execution_count": 43,
   "id": "8e04a224",
   "metadata": {},
   "outputs": [
    {
     "name": "stdout",
     "output_type": "stream",
     "text": [
      "tensor([ 0,  5, 10, 15, 20, 25, 30, 35, 40, 45])\n",
      "Minimum : tensor(0)\n",
      "Maximum : tensor(45)\n",
      "Mean : tensor(22.5000)\n",
      "Sum : tensor(225)\n"
     ]
    }
   ],
   "source": [
    "# Finding minimum, maximum, mean, sum \n",
    "\n",
    "rayone=torch.arange(start=0, end=50, step=5)\n",
    "print(rayone)\n",
    "\n",
    "print('Minimum :',rayone.min())\n",
    "print('Maximum :',rayone.max())\n",
    "print('Mean :',rayone.type(torch.float32).mean())\n",
    "print('Sum :',rayone.sum())"
   ]
  },
  {
   "cell_type": "code",
   "execution_count": 44,
   "id": "bb379f30",
   "metadata": {},
   "outputs": [
    {
     "name": "stdout",
     "output_type": "stream",
     "text": [
      "tensor([ 1,  4,  7, 10, 13, 16, 19, 22, 25, 28, 31, 34, 37]) torch.int64\n",
      "To float32 : tensor([ 1.,  4.,  7., 10., 13., 16., 19., 22., 25., 28., 31., 34., 37.]) torch.float32\n",
      "To float16 : tensor([ 1.,  4.,  7., 10., 13., 16., 19., 22., 25., 28., 31., 34., 37.],\n",
      "       dtype=torch.float16)\n"
     ]
    }
   ],
   "source": [
    "# Changing the datatype of a tensor\n",
    "\n",
    "ceor=torch.arange(1,40,3)\n",
    "print(ceor, ceor.dtype)\n",
    "print('To float32 :',ceor.type(torch.float32),ceor.type(torch.float32).dtype)\n",
    "print('To float16 :',ceor.type(torch.float16))"
   ]
  },
  {
   "cell_type": "code",
   "execution_count": 45,
   "id": "1b27560f",
   "metadata": {},
   "outputs": [
    {
     "name": "stdout",
     "output_type": "stream",
     "text": [
      "tensor([[1, 2, 3],\n",
      "        [4, 5, 6],\n",
      "        [7, 8, 9]])\n",
      "ruess.shape:  torch.Size([3, 3])\n"
     ]
    }
   ],
   "source": [
    "# Reshaping, stacking, squeezing and unsqueezing\n",
    "\n",
    "\n",
    "ruess=torch.tensor([[1,2,3],[4,5,6],[7,8,9]])\n",
    "print(ruess)\n",
    "print(\"ruess.shape: \",ruess.shape)"
   ]
  },
  {
   "cell_type": "code",
   "execution_count": 46,
   "id": "1b08aefd",
   "metadata": {},
   "outputs": [
    {
     "name": "stdout",
     "output_type": "stream",
     "text": [
      "tensor([[1],\n",
      "        [2],\n",
      "        [3],\n",
      "        [4],\n",
      "        [5],\n",
      "        [6],\n",
      "        [7],\n",
      "        [8],\n",
      "        [9]])\n"
     ]
    }
   ],
   "source": [
    "# Reshaping\n",
    "\n",
    "print(torch.reshape(ruess,(9,1)))"
   ]
  },
  {
   "cell_type": "code",
   "execution_count": 47,
   "id": "3f28fdf2",
   "metadata": {},
   "outputs": [
    {
     "name": "stdout",
     "output_type": "stream",
     "text": [
      "tensor([[1, 2, 3, 4, 5, 6, 7, 8, 9]])\n"
     ]
    }
   ],
   "source": [
    "# Viewing in different shape\n",
    "\n",
    "print(ruess.view(1,9))"
   ]
  },
  {
   "cell_type": "code",
   "execution_count": 48,
   "id": "6ce69b6f",
   "metadata": {},
   "outputs": [
    {
     "name": "stdout",
     "output_type": "stream",
     "text": [
      "tensor([[[1, 1],\n",
      "         [2, 1],\n",
      "         [3, 1]],\n",
      "\n",
      "        [[4, 1],\n",
      "         [5, 1],\n",
      "         [6, 1]],\n",
      "\n",
      "        [[7, 1],\n",
      "         [8, 1],\n",
      "         [9, 1]]]) torch.Size([3, 3, 2]) 3\n"
     ]
    }
   ],
   "source": [
    "# Stacking the tensors \n",
    "ruess_1=torch.ones_like(ruess)\n",
    "x=torch.stack((ruess,ruess_1),dim=2)\n",
    "print(x, x.shape, x.ndim)    "
   ]
  },
  {
   "cell_type": "code",
   "execution_count": 49,
   "id": "68d636a1",
   "metadata": {},
   "outputs": [
    {
     "name": "stdout",
     "output_type": "stream",
     "text": [
      "tensor([[[1, 2, 3],\n",
      "         [4, 5, 6],\n",
      "         [7, 8, 9]],\n",
      "\n",
      "        [[1, 1, 1],\n",
      "         [1, 1, 1],\n",
      "         [1, 1, 1]]])\n"
     ]
    }
   ],
   "source": [
    "ruess_1=torch.ones_like(ruess)\n",
    "print(torch.stack((ruess,ruess_1),dim=0))"
   ]
  },
  {
   "cell_type": "markdown",
   "id": "f1127cca",
   "metadata": {},
   "source": [
    "In PyTorch, the dim argument in functions like torch.stack specifies the dimension along which the operation is performed. The value of dim determines where the new dimension is inserted in the resulting tensor.\n",
    "\n",
    "Understanding Dimensions (dim)\n",
    "dim=0: This indicates the first dimension (rows).\n",
    "dim=1: This indicates the second dimension (columns)."
   ]
  },
  {
   "cell_type": "markdown",
   "id": "596313db",
   "metadata": {},
   "source": [
    "Initialize a new tensor with an additional dimension:\n",
    "The new tensor will have one more dimension than the input tensors. Since we are stacking along dim=1, \n",
    "the new shape will be (3, 2, 3). The 2 comes from the number of tensors being stacked, \n",
    "and the remaining dimensions come from the shape of the original tensors.\n",
    "\n",
    "Concatenate along the specified dimension:\n",
    "The elements from each input tensor are combined along the new dimension."
   ]
  },
  {
   "cell_type": "code",
   "execution_count": 50,
   "id": "41775d64",
   "metadata": {},
   "outputs": [
    {
     "name": "stdout",
     "output_type": "stream",
     "text": [
      "dimtor :\n",
      " tensor([[[1, 2, 3],\n",
      "         [4, 5, 6],\n",
      "         [7, 8, 9]]])\n",
      "dimtor has dimension 3 and shape torch.Size([1, 3, 3]) \n",
      "\n",
      "torch.squeeze(dimtor)\n",
      " tensor([[1, 2, 3],\n",
      "        [4, 5, 6],\n",
      "        [7, 8, 9]])\n",
      "torch.squeeze(dimtor).shape: torch.Size([3, 3])\n",
      "torch.squeeze(dimtor).dim: 2\n"
     ]
    }
   ],
   "source": [
    "# torch.squeeze : Squeezes the input to remove all the dimensions with value 1\n",
    "\n",
    "dimtor=torch.tensor([[[1,2,3],[4,5,6],[7,8,9]]])\n",
    "\n",
    "print('dimtor :\\n',dimtor)\n",
    "print('dimtor has dimension',dimtor.ndim,'and shape', dimtor.shape,'\\n')\n",
    "print('torch.squeeze(dimtor)\\n',torch.squeeze(dimtor))\n",
    "print('torch.squeeze(dimtor).shape:',torch.squeeze(dimtor).shape)\n",
    "print('torch.squeeze(dimtor).dim:',torch.squeeze(dimtor).ndim)"
   ]
  },
  {
   "cell_type": "code",
   "execution_count": 51,
   "id": "5ed7e348",
   "metadata": {},
   "outputs": [
    {
     "name": "stdout",
     "output_type": "stream",
     "text": [
      "woem: \n",
      " tensor([[1, 2, 3],\n",
      "        [4, 5, 6]]) \n",
      " shape torch.Size([2, 3]) dimensions  2\n",
      "\n",
      " torch.unsqueeze(woem,dim=0):\n",
      " tensor([[[1, 2, 3],\n",
      "         [4, 5, 6]]])\n",
      "torch.unsqueeze(woem,dim=0).ndim= 3 \n",
      "torch.unsqueeze(woem,dim=0).shape= torch.Size([1, 2, 3])\n"
     ]
    }
   ],
   "source": [
    "# torch.unsqueeze : add a dimension at a specified dimensional value\n",
    "\n",
    "woem=torch.tensor([[1,2,3],[4,5,6]]) # has 2 dimensions and shape of 2,3\n",
    "print('woem: \\n',woem, '\\n shape',woem.shape, 'dimensions ',woem.ndim)\n",
    "print('\\n torch.unsqueeze(woem,dim=0):\\n', torch.unsqueeze(woem,dim=0))\n",
    "print('torch.unsqueeze(woem,dim=0).ndim=',torch.unsqueeze(woem,dim=0).ndim, \n",
    "      '\\ntorch.unsqueeze(woem,dim=0).shape=',torch.unsqueeze(woem,dim=0).shape)"
   ]
  },
  {
   "cell_type": "code",
   "execution_count": 52,
   "id": "5ba6d371",
   "metadata": {},
   "outputs": [
    {
     "name": "stdout",
     "output_type": "stream",
     "text": [
      "Original tensor:\n",
      " tensor([[[ 1,  2,  3,  4],\n",
      "         [ 5,  6,  7,  8],\n",
      "         [ 9, 10, 11, 12]],\n",
      "\n",
      "        [[13, 14, 15, 16],\n",
      "         [17, 18, 19, 20],\n",
      "         [21, 22, 23, 24]]])\n",
      "Original tensor shape: torch.Size([2, 3, 4])\n",
      "Permuted tensor:\n",
      " tensor([[[ 1,  5,  9],\n",
      "         [13, 17, 21]],\n",
      "\n",
      "        [[ 2,  6, 10],\n",
      "         [14, 18, 22]],\n",
      "\n",
      "        [[ 3,  7, 11],\n",
      "         [15, 19, 23]],\n",
      "\n",
      "        [[ 4,  8, 12],\n",
      "         [16, 20, 24]]])\n",
      "Permuted tensor shape: torch.Size([4, 2, 3])\n"
     ]
    }
   ],
   "source": [
    "# Permute operation: Rearranging the tensor \n",
    "\n",
    "tensor = torch.tensor([[[ 1,  2,  3,  4],\n",
    "                        [ 5,  6,  7,  8],\n",
    "                        [ 9, 10, 11, 12]],\n",
    "\n",
    "                       [[13, 14, 15, 16],\n",
    "                        [17, 18, 19, 20],\n",
    "                        [21, 22, 23, 24]]])\n",
    "\n",
    "print(\"Original tensor:\\n\", tensor)\n",
    "print(\"Original tensor shape:\", tensor.shape)\n",
    "\n",
    "# Permute the dimensions to (4, 2, 3)\n",
    "permuted_tensor = tensor.permute(2, 0, 1) \n",
    "print(\"Permuted tensor:\\n\", permuted_tensor) # 1st dim is same to dim of orginal 2nd dim, 2nd dim is that of 0 dim of original,\n",
    "                                              # 3rd dim is same as that of 1st dim of original\n",
    "print(\"Permuted tensor shape:\", permuted_tensor.shape) "
   ]
  },
  {
   "cell_type": "markdown",
   "id": "29599514",
   "metadata": {},
   "source": [
    "Original Tensor:\n",
    "\n",
    "Shape: (2, 3, 4)\n",
    "Contains two 3x4 matrices.\n",
    "Permuted Tensor:\n",
    "\n",
    "Shape: (4, 2, 3)\n",
    "The first dimension of size 4 corresponds to the original last dimension.\n",
    "The second dimension of size 2 corresponds to the original first dimension.\n",
    "The third dimension of size 3 corresponds to the original second dimension.\n",
    "Use Cases\n",
    "Changing Image Data Format:\n",
    "Many image processing tasks require the data to be in specific formats (e.g., channels-first vs. channels-last).\n",
    "torch.permute can be used to rearrange the dimensions of image tensors to match the required format.\n",
    "Adjusting Tensor Shapes for Operations:\n",
    "Certain operations or layers in neural networks may expect inputs with specific dimension orders.\n",
    "torch.permute helps in aligning the tensor dimensions as needed.\n",
    "In summary, torch.permute is a powerful tool for rearranging the dimensions of tensors, allowing you to transform the shape of your data to fit various processing requirements."
   ]
  },
  {
   "cell_type": "code",
   "execution_count": 53,
   "id": "11094061",
   "metadata": {},
   "outputs": [
    {
     "name": "stdout",
     "output_type": "stream",
     "text": [
      "Index of max value is: 7 and the value is 123\n",
      "Index of min value is: 12 and the value is -1\n"
     ]
    }
   ],
   "source": [
    "# Finding the index number of the maximum value in a tensor \n",
    "axor=torch.tensor([1,2,3,45,2,67,90,123,56,23,9,0,-1,45])\n",
    "\n",
    "print(f\"Index of max value is: {axor.argmax()} and the value is {axor[axor.argmax()]}\")\n",
    "print(f\"Index of min value is: {axor.argmin()} and the value is {axor[axor.argmin()]}\")"
   ]
  },
  {
   "cell_type": "code",
   "execution_count": 54,
   "id": "45bb3297",
   "metadata": {},
   "outputs": [
    {
     "name": "stdout",
     "output_type": "stream",
     "text": [
      "tensor([[[1, 2, 3],\n",
      "         [3, 4, 5],\n",
      "         [6, 7, 8]]])\n"
     ]
    }
   ],
   "source": [
    "# Indexing the data from tensor\n",
    "\n",
    "trex=torch.tensor([[[1,2,3],[3,4,5],[6,7,8]]])\n",
    "print(trex)"
   ]
  },
  {
   "cell_type": "code",
   "execution_count": 55,
   "id": "cbe75bbf",
   "metadata": {},
   "outputs": [
    {
     "data": {
      "text/plain": [
       "tensor(5)"
      ]
     },
     "execution_count": 55,
     "metadata": {},
     "output_type": "execute_result"
    }
   ],
   "source": [
    "# Extracting a datavalue from a tensor\n",
    "trex[0][1][2]"
   ]
  },
  {
   "cell_type": "code",
   "execution_count": 56,
   "id": "812beb27",
   "metadata": {},
   "outputs": [
    {
     "name": "stdout",
     "output_type": "stream",
     "text": [
      "tensor([[3, 5, 8]])\n",
      "tensor([[3, 4, 5]])\n"
     ]
    }
   ],
   "source": [
    "# \n",
    "print(trex[:,:,2]) # from 1st dimension collect all, from 2nd dimension select all rows, from all rows select 2nd value \n",
    "print(trex[:,1]) # from 1st dimension select everything, select 1st row"
   ]
  },
  {
   "cell_type": "code",
   "execution_count": 57,
   "id": "6268acf9",
   "metadata": {},
   "outputs": [
    {
     "name": "stdout",
     "output_type": "stream",
     "text": [
      "Array: [0 1 2 3 4 5 6 7 8 9]\n",
      "Converted into a tensor: (tensor([0., 1., 2., 3., 4., 5., 6., 7., 8., 9.]), torch.float32)\n",
      "\n",
      "Tensor: (tensor([0., 1., 2., 3., 4., 5., 6., 7., 8., 9.]), torch.float32)\n",
      "Converted to a numpy array:  [0. 1. 2. 3. 4. 5. 6. 7. 8. 9.]\n"
     ]
    }
   ],
   "source": [
    "# from numpy to tensor and vice-versa\n",
    "import numpy as np\n",
    "\n",
    "raysor=np.arange(0,10,1)\n",
    "print(f\"Array: {raysor}\")\n",
    "teray=torch.from_numpy(raysor).type(torch.float32)\n",
    "print(f\"Converted into a tensor: {teray, teray.dtype}\")\n",
    "print(f\"\\nTensor: {teray, teray.dtype}\")\n",
    "ttray=teray.numpy()\n",
    "print(f\"Converted to a numpy array: \",ttray)"
   ]
  },
  {
   "cell_type": "code",
   "execution_count": null,
   "id": "d047b87f",
   "metadata": {},
   "outputs": [],
   "source": []
  }
 ],
 "metadata": {
  "kernelspec": {
   "display_name": "Python (pytorch_env)",
   "language": "python",
   "name": "pytorch_env"
  },
  "language_info": {
   "codemirror_mode": {
    "name": "ipython",
    "version": 3
   },
   "file_extension": ".py",
   "mimetype": "text/x-python",
   "name": "python",
   "nbconvert_exporter": "python",
   "pygments_lexer": "ipython3",
   "version": "3.11.9"
  }
 },
 "nbformat": 4,
 "nbformat_minor": 5
}
